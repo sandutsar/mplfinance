{
 "cells": [
  {
   "cell_type": "markdown",
   "metadata": {},
   "source": [
    "---\n",
    "\n",
    "#  Experimenting with Zorder and overlapping Axes\n",
    "\n",
    "---"
   ]
  },
  {
   "cell_type": "code",
   "execution_count": 1,
   "metadata": {},
   "outputs": [],
   "source": [
    "# This allows multiple outputs from a single jupyter notebook cell:\n",
    "from IPython.core.interactiveshell import InteractiveShell\n",
    "InteractiveShell.ast_node_interactivity = \"all\""
   ]
  },
  {
   "cell_type": "code",
   "execution_count": 2,
   "metadata": {},
   "outputs": [],
   "source": [
    "import matplotlib.pyplot as plt"
   ]
  },
  {
   "cell_type": "code",
   "execution_count": 3,
   "metadata": {},
   "outputs": [],
   "source": [
    "x1 = [0,1,2,3,4]\n",
    "yR = [2,4,3,5,3.5]\n",
    "yY = [4850,4400,4800,4800,5000]\n",
    "\n",
    "x2 = [0,1,1.7,2.4,4]\n",
    "yG = [4500,4500,4500,4950,4950]\n",
    "\n",
    "yW = [4700,4720,4730,4740,4750]\n",
    "\n",
    "axpos = [0.1,0.1,0.8,0.8]"
   ]
  },
  {
   "cell_type": "code",
   "execution_count": 4,
   "metadata": {},
   "outputs": [
    {
     "name": "stdout",
     "output_type": "stream",
     "text": [
      "Red    zorder= 0  visible= True  facecolor= (0.0, 0.0, 0.0, 1)\n",
      "Yellow zorder= 0  visible= True  facecolor= (1.0, 1.0, 1.0, 0.05)\n",
      "Green  zorder= 0  visible= False  facecolor= (1.0, 1.0, 1.0, 1.0)\n",
      "White  zorder= 0  visible= False  facecolor= (1.0, 1.0, 1.0, 1.0)\n"
     ]
    },
    {
     "data": {
      "image/png": "[encoded data removed]",
      "text/plain": [
       "<Figure size 576x360 with 4 Axes>"
      ]
     },
     "metadata": {
      "needs_background": "light"
     },
     "output_type": "display_data"
    }
   ],
   "source": [
    "fig = plt.figure(figsize=(8,5))\n",
    "\n",
    "##fig.patch.set_alpha(0.0)\n",
    "axR = fig.add_axes( axpos )\n",
    "axR.set_facecolor('k')\n",
    "\n",
    "axY = fig.add_axes( axpos, sharex=axR )\n",
    "axY.yaxis.tick_right()\n",
    "axY.yaxis.set_label_position(\"right\")\n",
    "#axY.patch.set_visible(False)\n",
    "axY.patch.set_alpha(0.05)\n",
    "\n",
    "axG = axY.twiny()\n",
    "axW = axG.twiny()\n",
    "\n",
    "#ax1.patch.set_visible(False)\n",
    "#ax2.patch.set_visible(False)\n",
    "\n",
    "#axR.set_facecolor('k')\n",
    "axR.patch.set_facecolor('k')\n",
    "#axY.patch.set_facecolor('k')\n",
    "#axG.patch.set_facecolor('k')\n",
    "#axW.patch.set_facecolor('k')\n",
    "\n",
    "#axY.patch.set_visible(True)\n",
    "#axG.patch.set_visible(True)\n",
    "#axW.patch.set_visible(True)\n",
    "\n",
    "_ = axR.plot(x1, yR, linewidth=15, color='magenta')\n",
    "_ = axY.plot(x1, yY, linewidth=15, color='yellow')\n",
    "_ = axG.plot(x2, yG, linewidth=15, color='lime')\n",
    "_ = axW.plot(x2, yW, linewidth=15, color='white')\n",
    "\n",
    "def print_zorders():\n",
    "    print('Red    zorder=',axR.get_zorder(),' visible=',axR.patch.get_visible(),' facecolor=',axR.patch.get_facecolor())\n",
    "    print('Yellow zorder=',axY.get_zorder(),' visible=',axY.patch.get_visible(),' facecolor=',axY.patch.get_facecolor())\n",
    "    print('Green  zorder=',axG.get_zorder(),' visible=',axG.patch.get_visible(),' facecolor=',axG.patch.get_facecolor())\n",
    "    print('White  zorder=',axW.get_zorder(),' visible=',axW.patch.get_visible(),' facecolor=',axW.patch.get_facecolor())\n",
    "    \n",
    "print_zorders()"
   ]
  },
  {
   "cell_type": "code",
   "execution_count": 5,
   "metadata": {},
   "outputs": [
    {
     "ename": "SyntaxError",
     "evalue": "invalid syntax (<ipython-input-5-a96ba3aab008>, line 1)",
     "output_type": "error",
     "traceback": [
      "\u001b[0;36m  File \u001b[0;32m\"<ipython-input-5-a96ba3aab008>\"\u001b[0;36m, line \u001b[0;32m1\u001b[0m\n\u001b[0;31m    stop here\u001b[0m\n\u001b[0m         ^\u001b[0m\n\u001b[0;31mSyntaxError\u001b[0m\u001b[0;31m:\u001b[0m invalid syntax\n"
     ]
    }
   ],
   "source": [
    "stop here"
   ]
  },
  {
   "cell_type": "code",
   "execution_count": null,
   "metadata": {},
   "outputs": [],
   "source": [
    "# axes = [axR,axY,axG,axW]\n",
    "# for ax in axes:\n",
    "#     ax.patch.set_facecolor('lime')\n",
    "#     print(ax.get_facecolor(),ax.patch.get_facecolor())"
   ]
  },
  {
   "cell_type": "markdown",
   "metadata": {},
   "source": [
    "- **Apparently `ax.facecolor` and `ax.patch.facecolor` ARE ONE AND THE SAME, but**\n",
    "- **`ax.alpha` and `ax.patch.alpha` ARE DIFFERENT, and**\n",
    "- **`ax.visible` does _NOT_ exist but `ax.patch.visible` _DOES_ exist.**"
   ]
  },
  {
   "cell_type": "code",
   "execution_count": null,
   "metadata": {},
   "outputs": [],
   "source": [
    "# axes = [axR,axY,axG,axW]\n",
    "# for ax in axes:\n",
    "#     ax.patch.set_alpha(0.1)\n",
    "#     print(ax.get_alpha(),ax.patch.get_alpha())"
   ]
  },
  {
   "cell_type": "code",
   "execution_count": null,
   "metadata": {},
   "outputs": [],
   "source": []
  },
  {
   "cell_type": "code",
   "execution_count": null,
   "metadata": {},
   "outputs": [],
   "source": [
    "axR.set_zorder(0.32)\n",
    "axY.set_zorder(0.31)\n",
    "axG.set_zorder(0.32)\n",
    "axW.set_zorder(0.30)\n",
    "print_zorders()\n",
    "fig"
   ]
  },
  {
   "cell_type": "code",
   "execution_count": null,
   "metadata": {},
   "outputs": [],
   "source": [
    "axR.set_zorder(0.32)\n",
    "axY.set_zorder(0.31)\n",
    "axG.set_zorder(0.32)\n",
    "axW.set_zorder(0.30)\n",
    "axG.patch.set_visible(False)\n",
    "axR.patch.set_visible(False)\n",
    "print_zorders()\n",
    "fig"
   ]
  },
  {
   "cell_type": "code",
   "execution_count": null,
   "metadata": {},
   "outputs": [],
   "source": []
  },
  {
   "cell_type": "code",
   "execution_count": null,
   "metadata": {},
   "outputs": [],
   "source": []
  },
  {
   "cell_type": "code",
   "execution_count": null,
   "metadata": {},
   "outputs": [],
   "source": []
  },
  {
   "cell_type": "code",
   "execution_count": null,
   "metadata": {},
   "outputs": [],
   "source": []
  },
  {
   "cell_type": "code",
   "execution_count": null,
   "metadata": {},
   "outputs": [],
   "source": []
  },
  {
   "cell_type": "code",
   "execution_count": null,
   "metadata": {},
   "outputs": [],
   "source": [
    "STOP HERE"
   ]
  },
  {
   "cell_type": "code",
   "execution_count": null,
   "metadata": {},
   "outputs": [],
   "source": []
  },
  {
   "cell_type": "code",
   "execution_count": null,
   "metadata": {},
   "outputs": [],
   "source": []
  },
  {
   "cell_type": "code",
   "execution_count": null,
   "metadata": {},
   "outputs": [],
   "source": [
    "axR.set_zorder(0.3)\n",
    "axY.set_zorder(0.4)\n",
    "axG.set_zorder(0.5)\n",
    "axW.set_zorder(0.29)\n",
    "#axY.patch.set_visible(True)\n",
    "#axG.patch.set_visible(True)\n",
    "#axR.patch.set_visible(False)\n",
    "print_zorders()\n",
    "fig"
   ]
  },
  {
   "cell_type": "code",
   "execution_count": null,
   "metadata": {},
   "outputs": [],
   "source": [
    "axR.set_zorder(0.1)\n",
    "axY.set_zorder(0.2)\n",
    "axG.set_zorder(0.3)\n",
    "axW.set_zorder(0.05)\n",
    "axR.patch.set_visible(True)\n",
    "print_zorders()\n",
    "fig"
   ]
  },
  {
   "cell_type": "code",
   "execution_count": null,
   "metadata": {},
   "outputs": [],
   "source": []
  },
  {
   "cell_type": "code",
   "execution_count": null,
   "metadata": {},
   "outputs": [],
   "source": []
  },
  {
   "cell_type": "code",
   "execution_count": null,
   "metadata": {},
   "outputs": [],
   "source": []
  },
  {
   "cell_type": "code",
   "execution_count": null,
   "metadata": {},
   "outputs": [],
   "source": []
  },
  {
   "cell_type": "code",
   "execution_count": null,
   "metadata": {},
   "outputs": [],
   "source": []
  },
  {
   "cell_type": "code",
   "execution_count": null,
   "metadata": {},
   "outputs": [],
   "source": []
  },
  {
   "cell_type": "markdown",
   "metadata": {},
   "source": [
    "## Apparent Rules for Overlapping Axes:\n",
    "\n",
    "1. Items drawn first appear *underneath* items drawn later.\n",
    "2. There is a zorder for each plot element, and a separate zorder for each Axes.\n",
    "3. Each Axes is drawn completely, with its plotted data, before moving on to draw the next Axes.  In other words, drawing is done per Axes at a time. If you have overlapping Axes, all elements of the second Axes are drawn on top of the first Axes, irrespective of the elements relative zorder.\n",
    "4. Axes are drawn according to the zorder *of the Axes*.\n",
    "5. If two or more Axes have the same zorder value, then Axes are drawn in the order they were created (i.e. the order that they appear in the `list` `Figure.axes`).\n",
    "\n",
    "#### Still trying to verify the following:\n",
    "6. The first Axes created within a given Figure, us unique in that *it will obscure the data from other axes* if it is drawn after them.  \n",
    "7. This problem can be solved if the other Axes have `patch.set_visible(False)` ???\n"
   ]
  },
  {
   "cell_type": "code",
   "execution_count": null,
   "metadata": {},
   "outputs": [],
   "source": [
    "axatt = dir(axR)"
   ]
  },
  {
   "cell_type": "code",
   "execution_count": null,
   "metadata": {
    "scrolled": false
   },
   "outputs": [],
   "source": [
    "axlist = fig.axes"
   ]
  },
  {
   "cell_type": "code",
   "execution_count": null,
   "metadata": {},
   "outputs": [],
   "source": [
    "import pprint\n",
    "pp = pprint.PrettyPrinter(indent=4)"
   ]
  },
  {
   "cell_type": "code",
   "execution_count": null,
   "metadata": {
    "scrolled": false
   },
   "outputs": [],
   "source": [
    "# dirlist = dir(axlist[0])\n",
    "# #dirlist\n",
    "# for item in dirlist[0:]:\n",
    "#     obj0 = 'axlist[0].'+item\n",
    "#     obj1 = 'axlist[1].'+item\n",
    "#     #print(item+':\\n','   ',obj0==obj1,'\\n   ',eval(obj0),'\\n   ',eval(obj1))\n",
    "#     print(item+':')\n",
    "# #    pp.pprint(eval(obj0))"
   ]
  },
  {
   "cell_type": "code",
   "execution_count": null,
   "metadata": {},
   "outputs": [],
   "source": []
  },
  {
   "cell_type": "code",
   "execution_count": null,
   "metadata": {},
   "outputs": [],
   "source": []
  }
 ],
 "metadata": {
  "kernelspec": {
   "display_name": "Python 3",
   "language": "python",
   "name": "python3"
  },
  "language_info": {
   "codemirror_mode": {
    "name": "ipython",
    "version": 3
   },
   "file_extension": ".py",
   "mimetype": "text/x-python",
   "name": "python",
   "nbconvert_exporter": "python",
   "pygments_lexer": "ipython3",
   "version": "3.8.5"
  }
 },
 "nbformat": 4,
 "nbformat_minor": 2
}
